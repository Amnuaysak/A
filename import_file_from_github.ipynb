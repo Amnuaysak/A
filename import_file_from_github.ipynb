{
  "nbformat": 4,
  "nbformat_minor": 0,
  "metadata": {
    "colab": {
      "provenance": [],
      "authorship_tag": "ABX9TyO6N/itSqMLXDpoNhM0FIoA",
      "include_colab_link": true
    },
    "kernelspec": {
      "name": "python3",
      "display_name": "Python 3"
    },
    "language_info": {
      "name": "python"
    }
  },
  "cells": [
    {
      "cell_type": "markdown",
      "metadata": {
        "id": "view-in-github",
        "colab_type": "text"
      },
      "source": [
        "<a href=\"https://colab.research.google.com/github/Amnuaysak/A/blob/main/import_file_from_github.ipynb\" target=\"_parent\"><img src=\"https://colab.research.google.com/assets/colab-badge.svg\" alt=\"Open In Colab\"/></a>"
      ]
    },
    {
      "cell_type": "code",
      "execution_count": null,
      "metadata": {
        "id": "jqCVlzn6YGK-"
      },
      "outputs": [],
      "source": [
        "user = \"Amnuaysak\"\n",
        "repo = \"name of repository\"\n",
        "src_dir = \"name of directory\"\n",
        "pyfile = \"python.py\"\n",
        "\n",
        "url = f\"https://raw.githubusercontent.com/{user}/{repo}/main/{src_dir}/{pyfile}\"\n",
        "!wget --no-cache --backups=1 {url}"
      ]
    },
    {
      "cell_type": "code",
      "source": [
        "import subprocess\n",
        "\n",
        "result = subprocess.run([\"wget\", \"--no-cache\", \"--backups=1\", url], stderr=subprocess.PIPE, stdout=subprocess.PIPE)\n",
        "print(result.stderr.decode(\"utf-8\"))"
      ],
      "metadata": {
        "id": "QBNLTFfvYKHX"
      },
      "execution_count": null,
      "outputs": []
    },
    {
      "cell_type": "code",
      "source": [
        "with open(pyfile, 'r') as f:\n",
        "    print(f.read())"
      ],
      "metadata": {
        "id": "qRTTT18XYQvA"
      },
      "execution_count": null,
      "outputs": []
    },
    {
      "cell_type": "markdown",
      "source": [
        "https://colab.research.google.com/github/jckantor/cbe61622/blob/master/docs/A.02-Downloading_Python_source_files_from_github.ipynb#scrollTo=YXOQax7bzd1F"
      ],
      "metadata": {
        "id": "dbNpTRzGZc0e"
      }
    },
    {
      "cell_type": "code",
      "source": [
        "!git init"
      ],
      "metadata": {
        "id": "nEM5zoWoEGBT"
      },
      "execution_count": null,
      "outputs": []
    },
    {
      "cell_type": "code",
      "source": [
        "!git config — global user.email “t.amnuaysak@gmail.com”\n",
        "!git config — global user.name “Amnuaysak”"
      ],
      "metadata": {
        "id": "KINNIfdGExTb"
      },
      "execution_count": null,
      "outputs": []
    },
    {
      "cell_type": "code",
      "source": [
        "!git add -A"
      ],
      "metadata": {
        "id": "5C2N2vvHFMBh"
      },
      "execution_count": null,
      "outputs": []
    },
    {
      "cell_type": "code",
      "source": [
        "!git commit -m “first commit”"
      ],
      "metadata": {
        "id": "DU6vn5pwFQhc"
      },
      "execution_count": null,
      "outputs": []
    },
    {
      "cell_type": "code",
      "source": [
        "!git remote add origin https://<Amnuaysak>:<password>@github.com/<username>/reponame.git"
      ],
      "metadata": {
        "id": "mPvo50cVFegR"
      },
      "execution_count": null,
      "outputs": []
    }
  ]
}